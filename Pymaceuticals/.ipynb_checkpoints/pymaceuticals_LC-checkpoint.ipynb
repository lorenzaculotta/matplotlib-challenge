{
 "cells": [
  {
   "cell_type": "markdown",
   "metadata": {},
   "source": [
    "## Observations and Insights "
   ]
  },
  {
   "cell_type": "markdown",
   "metadata": {},
   "source": []
  },
  {
   "cell_type": "code",
   "execution_count": 1,
   "metadata": {},
   "outputs": [],
   "source": [
    "# Dependencies and Setup\n",
    "import matplotlib.pyplot as plt\n",
    "import numpy as np\n",
    "import pandas as pd\n",
    "import scipy.stats as st\n",
    "%matplotlib inline\n",
    "\n",
    "# Study data files\n",
    "mouse_metadata_path = \"data/Mouse_metadata.csv\"\n",
    "study_results_path = \"data/Study_results.csv\"\n",
    "\n",
    "# Read the mouse data and the study results\n",
    "mouse_metadata = pd.read_csv(mouse_metadata_path)\n",
    "study_results = pd.read_csv(study_results_path)"
   ]
  },
  {
   "cell_type": "code",
   "execution_count": 2,
   "metadata": {
    "scrolled": false
   },
   "outputs": [
    {
     "data": {
      "text/html": [
       "<div>\n",
       "<style scoped>\n",
       "    .dataframe tbody tr th:only-of-type {\n",
       "        vertical-align: middle;\n",
       "    }\n",
       "\n",
       "    .dataframe tbody tr th {\n",
       "        vertical-align: top;\n",
       "    }\n",
       "\n",
       "    .dataframe thead th {\n",
       "        text-align: right;\n",
       "    }\n",
       "</style>\n",
       "<table border=\"1\" class=\"dataframe\">\n",
       "  <thead>\n",
       "    <tr style=\"text-align: right;\">\n",
       "      <th></th>\n",
       "      <th>Mouse ID</th>\n",
       "      <th>Drug Regimen</th>\n",
       "      <th>Sex</th>\n",
       "      <th>Age_months</th>\n",
       "      <th>Weight (g)</th>\n",
       "      <th>Timepoint</th>\n",
       "      <th>Tumor Volume (mm3)</th>\n",
       "      <th>Metastatic Sites</th>\n",
       "    </tr>\n",
       "  </thead>\n",
       "  <tbody>\n",
       "    <tr>\n",
       "      <th>0</th>\n",
       "      <td>k403</td>\n",
       "      <td>Ramicane</td>\n",
       "      <td>Male</td>\n",
       "      <td>21</td>\n",
       "      <td>16</td>\n",
       "      <td>0</td>\n",
       "      <td>45.000000</td>\n",
       "      <td>0</td>\n",
       "    </tr>\n",
       "    <tr>\n",
       "      <th>1</th>\n",
       "      <td>k403</td>\n",
       "      <td>Ramicane</td>\n",
       "      <td>Male</td>\n",
       "      <td>21</td>\n",
       "      <td>16</td>\n",
       "      <td>5</td>\n",
       "      <td>38.825898</td>\n",
       "      <td>0</td>\n",
       "    </tr>\n",
       "    <tr>\n",
       "      <th>2</th>\n",
       "      <td>k403</td>\n",
       "      <td>Ramicane</td>\n",
       "      <td>Male</td>\n",
       "      <td>21</td>\n",
       "      <td>16</td>\n",
       "      <td>10</td>\n",
       "      <td>35.014271</td>\n",
       "      <td>1</td>\n",
       "    </tr>\n",
       "    <tr>\n",
       "      <th>3</th>\n",
       "      <td>k403</td>\n",
       "      <td>Ramicane</td>\n",
       "      <td>Male</td>\n",
       "      <td>21</td>\n",
       "      <td>16</td>\n",
       "      <td>15</td>\n",
       "      <td>34.223992</td>\n",
       "      <td>1</td>\n",
       "    </tr>\n",
       "    <tr>\n",
       "      <th>4</th>\n",
       "      <td>k403</td>\n",
       "      <td>Ramicane</td>\n",
       "      <td>Male</td>\n",
       "      <td>21</td>\n",
       "      <td>16</td>\n",
       "      <td>20</td>\n",
       "      <td>32.997729</td>\n",
       "      <td>1</td>\n",
       "    </tr>\n",
       "  </tbody>\n",
       "</table>\n",
       "</div>"
      ],
      "text/plain": [
       "  Mouse ID Drug Regimen   Sex  Age_months  Weight (g)  Timepoint  \\\n",
       "0     k403     Ramicane  Male          21          16          0   \n",
       "1     k403     Ramicane  Male          21          16          5   \n",
       "2     k403     Ramicane  Male          21          16         10   \n",
       "3     k403     Ramicane  Male          21          16         15   \n",
       "4     k403     Ramicane  Male          21          16         20   \n",
       "\n",
       "   Tumor Volume (mm3)  Metastatic Sites  \n",
       "0           45.000000                 0  \n",
       "1           38.825898                 0  \n",
       "2           35.014271                 1  \n",
       "3           34.223992                 1  \n",
       "4           32.997729                 1  "
      ]
     },
     "execution_count": 2,
     "metadata": {},
     "output_type": "execute_result"
    }
   ],
   "source": [
    "# Combine the data into a single dataset\n",
    "data_df=pd.merge(mouse_metadata, study_results, on= \"Mouse ID\")\n",
    "data_df.head()"
   ]
  },
  {
   "cell_type": "code",
   "execution_count": 3,
   "metadata": {},
   "outputs": [
    {
     "data": {
      "text/plain": [
       "249"
      ]
     },
     "execution_count": 3,
     "metadata": {},
     "output_type": "execute_result"
    }
   ],
   "source": [
    "# Checking the number of mice in the DataFrame.\n",
    "mice_n= data_df[\"Mouse ID\"].value_counts().count()\n",
    "mice_n"
   ]
  },
  {
   "cell_type": "code",
   "execution_count": 4,
   "metadata": {},
   "outputs": [
    {
     "data": {
      "text/plain": [
       "Mouse ID              1893\n",
       "Drug Regimen          1893\n",
       "Sex                   1893\n",
       "Age_months            1893\n",
       "Weight (g)            1893\n",
       "Timepoint             1893\n",
       "Tumor Volume (mm3)    1893\n",
       "Metastatic Sites      1893\n",
       "dtype: int64"
      ]
     },
     "execution_count": 4,
     "metadata": {},
     "output_type": "execute_result"
    }
   ],
   "source": [
    "#Check missing values\n",
    "data_df.count()"
   ]
  },
  {
   "cell_type": "code",
   "execution_count": 5,
   "metadata": {},
   "outputs": [
    {
     "data": {
      "text/plain": [
       "0    False\n",
       "1    False\n",
       "2    False\n",
       "3    False\n",
       "4    False\n",
       "dtype: bool"
      ]
     },
     "execution_count": 5,
     "metadata": {},
     "output_type": "execute_result"
    }
   ],
   "source": [
    "# Getting the duplicate mice by ID number that shows up for Mouse ID and Timepoint. \n",
    "duplicates=data_df.duplicated(subset=[\"Mouse ID\", \"Timepoint\"], keep=False)\n",
    "duplicates.head()"
   ]
  },
  {
   "cell_type": "code",
   "execution_count": 6,
   "metadata": {
    "scrolled": true
   },
   "outputs": [
    {
     "data": {
      "text/html": [
       "<div>\n",
       "<style scoped>\n",
       "    .dataframe tbody tr th:only-of-type {\n",
       "        vertical-align: middle;\n",
       "    }\n",
       "\n",
       "    .dataframe tbody tr th {\n",
       "        vertical-align: top;\n",
       "    }\n",
       "\n",
       "    .dataframe thead th {\n",
       "        text-align: right;\n",
       "    }\n",
       "</style>\n",
       "<table border=\"1\" class=\"dataframe\">\n",
       "  <thead>\n",
       "    <tr style=\"text-align: right;\">\n",
       "      <th></th>\n",
       "      <th>Mouse ID</th>\n",
       "      <th>Drug Regimen</th>\n",
       "      <th>Sex</th>\n",
       "      <th>Age_months</th>\n",
       "      <th>Weight (g)</th>\n",
       "      <th>Timepoint</th>\n",
       "      <th>Tumor Volume (mm3)</th>\n",
       "      <th>Metastatic Sites</th>\n",
       "    </tr>\n",
       "  </thead>\n",
       "  <tbody>\n",
       "    <tr>\n",
       "      <th>908</th>\n",
       "      <td>g989</td>\n",
       "      <td>Propriva</td>\n",
       "      <td>Female</td>\n",
       "      <td>21</td>\n",
       "      <td>26</td>\n",
       "      <td>0</td>\n",
       "      <td>45.000000</td>\n",
       "      <td>0</td>\n",
       "    </tr>\n",
       "    <tr>\n",
       "      <th>909</th>\n",
       "      <td>g989</td>\n",
       "      <td>Propriva</td>\n",
       "      <td>Female</td>\n",
       "      <td>21</td>\n",
       "      <td>26</td>\n",
       "      <td>0</td>\n",
       "      <td>45.000000</td>\n",
       "      <td>0</td>\n",
       "    </tr>\n",
       "    <tr>\n",
       "      <th>910</th>\n",
       "      <td>g989</td>\n",
       "      <td>Propriva</td>\n",
       "      <td>Female</td>\n",
       "      <td>21</td>\n",
       "      <td>26</td>\n",
       "      <td>5</td>\n",
       "      <td>48.786801</td>\n",
       "      <td>0</td>\n",
       "    </tr>\n",
       "    <tr>\n",
       "      <th>911</th>\n",
       "      <td>g989</td>\n",
       "      <td>Propriva</td>\n",
       "      <td>Female</td>\n",
       "      <td>21</td>\n",
       "      <td>26</td>\n",
       "      <td>5</td>\n",
       "      <td>47.570392</td>\n",
       "      <td>0</td>\n",
       "    </tr>\n",
       "    <tr>\n",
       "      <th>912</th>\n",
       "      <td>g989</td>\n",
       "      <td>Propriva</td>\n",
       "      <td>Female</td>\n",
       "      <td>21</td>\n",
       "      <td>26</td>\n",
       "      <td>10</td>\n",
       "      <td>51.745156</td>\n",
       "      <td>0</td>\n",
       "    </tr>\n",
       "  </tbody>\n",
       "</table>\n",
       "</div>"
      ],
      "text/plain": [
       "    Mouse ID Drug Regimen     Sex  Age_months  Weight (g)  Timepoint  \\\n",
       "908     g989     Propriva  Female          21          26          0   \n",
       "909     g989     Propriva  Female          21          26          0   \n",
       "910     g989     Propriva  Female          21          26          5   \n",
       "911     g989     Propriva  Female          21          26          5   \n",
       "912     g989     Propriva  Female          21          26         10   \n",
       "\n",
       "     Tumor Volume (mm3)  Metastatic Sites  \n",
       "908           45.000000                 0  \n",
       "909           45.000000                 0  \n",
       "910           48.786801                 0  \n",
       "911           47.570392                 0  \n",
       "912           51.745156                 0  "
      ]
     },
     "execution_count": 6,
     "metadata": {},
     "output_type": "execute_result"
    }
   ],
   "source": [
    "# Optional: Get all the data for the duplicate mouse ID. \n",
    "duplicates_df=data_df[duplicates]\n",
    "duplicates_df.head()"
   ]
  },
  {
   "cell_type": "code",
   "execution_count": 7,
   "metadata": {},
   "outputs": [
    {
     "data": {
      "text/plain": [
       "Mouse ID              10\n",
       "Drug Regimen          10\n",
       "Sex                   10\n",
       "Age_months            10\n",
       "Weight (g)            10\n",
       "Timepoint             10\n",
       "Tumor Volume (mm3)    10\n",
       "Metastatic Sites      10\n",
       "dtype: int64"
      ]
     },
     "execution_count": 7,
     "metadata": {},
     "output_type": "execute_result"
    }
   ],
   "source": [
    "duplicates_df.count()"
   ]
  },
  {
   "cell_type": "code",
   "execution_count": 8,
   "metadata": {},
   "outputs": [
    {
     "data": {
      "text/html": [
       "<div>\n",
       "<style scoped>\n",
       "    .dataframe tbody tr th:only-of-type {\n",
       "        vertical-align: middle;\n",
       "    }\n",
       "\n",
       "    .dataframe tbody tr th {\n",
       "        vertical-align: top;\n",
       "    }\n",
       "\n",
       "    .dataframe thead th {\n",
       "        text-align: right;\n",
       "    }\n",
       "</style>\n",
       "<table border=\"1\" class=\"dataframe\">\n",
       "  <thead>\n",
       "    <tr style=\"text-align: right;\">\n",
       "      <th></th>\n",
       "      <th>Mouse ID</th>\n",
       "      <th>Drug Regimen</th>\n",
       "      <th>Sex</th>\n",
       "      <th>Age_months</th>\n",
       "      <th>Weight (g)</th>\n",
       "      <th>Timepoint</th>\n",
       "      <th>Tumor Volume (mm3)</th>\n",
       "      <th>Metastatic Sites</th>\n",
       "    </tr>\n",
       "  </thead>\n",
       "  <tbody>\n",
       "    <tr>\n",
       "      <th>0</th>\n",
       "      <td>k403</td>\n",
       "      <td>Ramicane</td>\n",
       "      <td>Male</td>\n",
       "      <td>21</td>\n",
       "      <td>16</td>\n",
       "      <td>0</td>\n",
       "      <td>45.000000</td>\n",
       "      <td>0</td>\n",
       "    </tr>\n",
       "    <tr>\n",
       "      <th>1</th>\n",
       "      <td>k403</td>\n",
       "      <td>Ramicane</td>\n",
       "      <td>Male</td>\n",
       "      <td>21</td>\n",
       "      <td>16</td>\n",
       "      <td>5</td>\n",
       "      <td>38.825898</td>\n",
       "      <td>0</td>\n",
       "    </tr>\n",
       "    <tr>\n",
       "      <th>2</th>\n",
       "      <td>k403</td>\n",
       "      <td>Ramicane</td>\n",
       "      <td>Male</td>\n",
       "      <td>21</td>\n",
       "      <td>16</td>\n",
       "      <td>10</td>\n",
       "      <td>35.014271</td>\n",
       "      <td>1</td>\n",
       "    </tr>\n",
       "    <tr>\n",
       "      <th>3</th>\n",
       "      <td>k403</td>\n",
       "      <td>Ramicane</td>\n",
       "      <td>Male</td>\n",
       "      <td>21</td>\n",
       "      <td>16</td>\n",
       "      <td>15</td>\n",
       "      <td>34.223992</td>\n",
       "      <td>1</td>\n",
       "    </tr>\n",
       "    <tr>\n",
       "      <th>4</th>\n",
       "      <td>k403</td>\n",
       "      <td>Ramicane</td>\n",
       "      <td>Male</td>\n",
       "      <td>21</td>\n",
       "      <td>16</td>\n",
       "      <td>20</td>\n",
       "      <td>32.997729</td>\n",
       "      <td>1</td>\n",
       "    </tr>\n",
       "  </tbody>\n",
       "</table>\n",
       "</div>"
      ],
      "text/plain": [
       "  Mouse ID Drug Regimen   Sex  Age_months  Weight (g)  Timepoint  \\\n",
       "0     k403     Ramicane  Male          21          16          0   \n",
       "1     k403     Ramicane  Male          21          16          5   \n",
       "2     k403     Ramicane  Male          21          16         10   \n",
       "3     k403     Ramicane  Male          21          16         15   \n",
       "4     k403     Ramicane  Male          21          16         20   \n",
       "\n",
       "   Tumor Volume (mm3)  Metastatic Sites  \n",
       "0           45.000000                 0  \n",
       "1           38.825898                 0  \n",
       "2           35.014271                 1  \n",
       "3           34.223992                 1  \n",
       "4           32.997729                 1  "
      ]
     },
     "execution_count": 8,
     "metadata": {},
     "output_type": "execute_result"
    }
   ],
   "source": [
    "# Create a clean DataFrame by dropping the duplicate mouse by its ID.\n",
    "clean_data_df=data_df.drop(duplicates_df.index)\n",
    "clean_data_df.head()"
   ]
  },
  {
   "cell_type": "code",
   "execution_count": 9,
   "metadata": {},
   "outputs": [
    {
     "data": {
      "text/plain": [
       "249"
      ]
     },
     "execution_count": 9,
     "metadata": {},
     "output_type": "execute_result"
    }
   ],
   "source": [
    "# Checking the number of mice in the clean DataFrame.\n",
    "mice_n_clean= clean_data_df[\"Mouse ID\"].value_counts().count()\n",
    "mice_n_clean"
   ]
  },
  {
   "cell_type": "markdown",
   "metadata": {},
   "source": [
    "## Summary Statistics"
   ]
  },
  {
   "cell_type": "code",
   "execution_count": 10,
   "metadata": {},
   "outputs": [
    {
     "data": {
      "text/html": [
       "<div>\n",
       "<style scoped>\n",
       "    .dataframe tbody tr th:only-of-type {\n",
       "        vertical-align: middle;\n",
       "    }\n",
       "\n",
       "    .dataframe tbody tr th {\n",
       "        vertical-align: top;\n",
       "    }\n",
       "\n",
       "    .dataframe thead th {\n",
       "        text-align: right;\n",
       "    }\n",
       "</style>\n",
       "<table border=\"1\" class=\"dataframe\">\n",
       "  <thead>\n",
       "    <tr style=\"text-align: right;\">\n",
       "      <th>Tumor Volume (mm3)</th>\n",
       "      <th>Mean</th>\n",
       "      <th>Median</th>\n",
       "      <th>Variance</th>\n",
       "      <th>Standar Deviation</th>\n",
       "      <th>SEM</th>\n",
       "    </tr>\n",
       "    <tr>\n",
       "      <th>Drug Regimen</th>\n",
       "      <th></th>\n",
       "      <th></th>\n",
       "      <th></th>\n",
       "      <th></th>\n",
       "      <th></th>\n",
       "    </tr>\n",
       "  </thead>\n",
       "  <tbody>\n",
       "    <tr>\n",
       "      <th>Capomulin</th>\n",
       "      <td>40.675741</td>\n",
       "      <td>41.557809</td>\n",
       "      <td>24.839296</td>\n",
       "      <td>4.983904</td>\n",
       "      <td>0.329346</td>\n",
       "    </tr>\n",
       "    <tr>\n",
       "      <th>Ceftamin</th>\n",
       "      <td>52.591172</td>\n",
       "      <td>51.776157</td>\n",
       "      <td>39.069446</td>\n",
       "      <td>6.250556</td>\n",
       "      <td>0.469821</td>\n",
       "    </tr>\n",
       "    <tr>\n",
       "      <th>Infubinol</th>\n",
       "      <td>52.884795</td>\n",
       "      <td>51.820584</td>\n",
       "      <td>42.886388</td>\n",
       "      <td>6.548770</td>\n",
       "      <td>0.492236</td>\n",
       "    </tr>\n",
       "    <tr>\n",
       "      <th>Ketapril</th>\n",
       "      <td>55.235638</td>\n",
       "      <td>53.698743</td>\n",
       "      <td>68.188930</td>\n",
       "      <td>8.257659</td>\n",
       "      <td>0.603860</td>\n",
       "    </tr>\n",
       "    <tr>\n",
       "      <th>Naftisol</th>\n",
       "      <td>54.331565</td>\n",
       "      <td>52.509285</td>\n",
       "      <td>65.817708</td>\n",
       "      <td>8.112811</td>\n",
       "      <td>0.596466</td>\n",
       "    </tr>\n",
       "    <tr>\n",
       "      <th>Placebo</th>\n",
       "      <td>54.033581</td>\n",
       "      <td>52.288934</td>\n",
       "      <td>60.830138</td>\n",
       "      <td>7.799368</td>\n",
       "      <td>0.581331</td>\n",
       "    </tr>\n",
       "    <tr>\n",
       "      <th>Propriva</th>\n",
       "      <td>52.458254</td>\n",
       "      <td>50.854632</td>\n",
       "      <td>43.761912</td>\n",
       "      <td>6.615279</td>\n",
       "      <td>0.540135</td>\n",
       "    </tr>\n",
       "    <tr>\n",
       "      <th>Ramicane</th>\n",
       "      <td>40.216745</td>\n",
       "      <td>40.673236</td>\n",
       "      <td>23.383692</td>\n",
       "      <td>4.835669</td>\n",
       "      <td>0.320955</td>\n",
       "    </tr>\n",
       "    <tr>\n",
       "      <th>Stelasyn</th>\n",
       "      <td>54.233149</td>\n",
       "      <td>52.431737</td>\n",
       "      <td>59.122106</td>\n",
       "      <td>7.689090</td>\n",
       "      <td>0.573111</td>\n",
       "    </tr>\n",
       "    <tr>\n",
       "      <th>Zoniferol</th>\n",
       "      <td>53.236507</td>\n",
       "      <td>51.818479</td>\n",
       "      <td>48.266689</td>\n",
       "      <td>6.947423</td>\n",
       "      <td>0.516398</td>\n",
       "    </tr>\n",
       "  </tbody>\n",
       "</table>\n",
       "</div>"
      ],
      "text/plain": [
       "Tumor Volume (mm3)       Mean     Median   Variance  Standar Deviation  \\\n",
       "Drug Regimen                                                             \n",
       "Capomulin           40.675741  41.557809  24.839296           4.983904   \n",
       "Ceftamin            52.591172  51.776157  39.069446           6.250556   \n",
       "Infubinol           52.884795  51.820584  42.886388           6.548770   \n",
       "Ketapril            55.235638  53.698743  68.188930           8.257659   \n",
       "Naftisol            54.331565  52.509285  65.817708           8.112811   \n",
       "Placebo             54.033581  52.288934  60.830138           7.799368   \n",
       "Propriva            52.458254  50.854632  43.761912           6.615279   \n",
       "Ramicane            40.216745  40.673236  23.383692           4.835669   \n",
       "Stelasyn            54.233149  52.431737  59.122106           7.689090   \n",
       "Zoniferol           53.236507  51.818479  48.266689           6.947423   \n",
       "\n",
       "Tumor Volume (mm3)       SEM  \n",
       "Drug Regimen                  \n",
       "Capomulin           0.329346  \n",
       "Ceftamin            0.469821  \n",
       "Infubinol           0.492236  \n",
       "Ketapril            0.603860  \n",
       "Naftisol            0.596466  \n",
       "Placebo             0.581331  \n",
       "Propriva            0.540135  \n",
       "Ramicane            0.320955  \n",
       "Stelasyn            0.573111  \n",
       "Zoniferol           0.516398  "
      ]
     },
     "execution_count": 10,
     "metadata": {},
     "output_type": "execute_result"
    }
   ],
   "source": [
    "# Generate a summary statistics table of mean, median, variance, standard deviation, and SEM of the tumor volume for each regimen\n",
    "drug_regimen_df=clean_data_df.groupby(\"Drug Regimen\")\n",
    "drug_regimen_df\n",
    "\n",
    "tumor_v=drug_regimen_df[\"Tumor Volume (mm3)\"]\n",
    "mean=tumor_v.mean()\n",
    "median=tumor_v.median()\n",
    "variance=tumor_v.var(ddof=0)\n",
    "st_dev=tumor_v.std(ddof=0)\n",
    "sem=tumor_v.sem()\n",
    "\n",
    "summary=[tumor_v.mean(), tumor_v.median(), tumor_v.var(ddof=0), tumor_v.std(ddof=0), \\\n",
    "         tumor_v.sem()]\n",
    "\n",
    "column_names=[\"Mean\", \"Median\", \"Variance\", \"Standar Deviation\", \"SEM\"]\n",
    "summary_tumor_volume_df=pd.concat(summary, axis=1)\n",
    "summary_tumor_volume_df.columns=column_names\n",
    "summary_tumor_volume_df.columns.name=\"Tumor Volume (mm3)\"\n",
    "summary_tumor_volume_df"
   ]
  },
  {
   "cell_type": "markdown",
   "metadata": {},
   "source": [
    "## Bar Plots"
   ]
  },
  {
   "cell_type": "code",
   "execution_count": 27,
   "metadata": {
    "scrolled": true
   },
   "outputs": [
    {
     "data": {
      "image/png": "[encoded data removed]",
      "text/plain": [
       "<Figure size 2880x288 with 1 Axes>"
      ]
     },
     "metadata": {
      "needs_background": "light"
     },
     "output_type": "display_data"
    }
   ],
   "source": [
    "# Generate a bar plot showing the number of mice per time point for each treatment throughout the course of the study\n",
    "#using pandas.\n",
    "\n",
    "mice_per_drug=clean_data_df.groupby([\"Drug Regimen\", \"Timepoint\"]).count()[\"Mouse ID\"].unstack(level=1)\n",
    "\n",
    "mice_per_drug.plot(kind= \"bar\", figsize=(40,4), alpha=0.75)\n",
    "plt.title(\"Number of Mice per Timepoint for Drug Regimen\", fontweight=\"bold\", fontsize=15)\n",
    "plt.ylabel(\"Number of Mice\", fontsize=15)\n",
    "plt.xlabel(\"Drug Regimen\", fontsize=15)\n",
    "plt.xticks(rotation=0)\n",
    "plt.legend(loc=\"center left\", bbox_to_anchor=(1.0, 0.5), title=\"Timepoint\")\n",
    "\n",
    "plt.tight_layout()\n"
   ]
  },
  {
   "cell_type": "code",
   "execution_count": 23,
   "metadata": {},
   "outputs": [
    {
     "data": {
      "image/png": "[encoded data removed]",
      "text/plain": [
       "<Figure size 2880x360 with 10 Axes>"
      ]
     },
     "metadata": {
      "needs_background": "light"
     },
     "output_type": "display_data"
    }
   ],
   "source": [
    "# Generate a bar plot showing the number of mice per time point for each treatment throughout the course of the study \n",
    "#using pyplot.\n",
    "\n",
    "mice_number=clean_data_df.groupby([\"Drug Regimen\", \"Timepoint\"]).count()[\"Mouse ID\"].unstack(level=1)\n",
    "\n",
    "#Create figure\n",
    "fig, axis=plt.subplots(nrows=1, ncols=10, figsize=(40,5))\n",
    "fig.suptitle(\"Number of Mice per Timepoint for Drug Regimen\", fontsize=15, fontweight=\"bold\")\n",
    "fig.subplots_adjust(hspace=0.5,wspace=0.5)\n",
    "\n",
    "\n",
    "colors=[\"g\", \"r\", \"b\", \"c\", \"m\", \"brown\", \"gold\", \"purple\", \"grey\", \"deeppink\"]\n",
    "\n",
    "#Define function to plot\n",
    "def plot_bar_1():\n",
    "    plot=mice_number.iloc[i,:].plot(kind=\"bar\", ax=axis[i], color=colors[i],).set_ylabel(\"Number of Mice\", fontsize=12)\n",
    "    axis[i].set_xlabel(\"Timepoint\", fontsize=12)\n",
    "    axis[i].set_title(mice_number.index[i], fontsize=14)\n",
    "    return plot\n",
    "\n",
    "#Plot all drugs\n",
    "for i in range(10):\n",
    "    plot_bar_1()\n",
    "\n",
    "plt.tight_layout()"
   ]
  },
  {
   "cell_type": "markdown",
   "metadata": {},
   "source": [
    "## Pie Plots"
   ]
  },
  {
   "cell_type": "code",
   "execution_count": 15,
   "metadata": {},
   "outputs": [
    {
     "data": {
      "image/png": "[encoded data removed]",
      "text/plain": [
       "<Figure size 432x288 with 1 Axes>"
      ]
     },
     "metadata": {},
     "output_type": "display_data"
    }
   ],
   "source": [
    "# Generate a pie plot showing the distribution of female versus male mice using pandas\n",
    "colors=[\"green\", \"red\"]\n",
    "\n",
    "mice_sex_plot= clean_data_df[\"Sex\"].value_counts().plot(kind=\"pie\", y=clean_data_df[\"Sex\"].unique(),\\\n",
    "                                                       autopct=\"%1.1f%%\", startangle=90, colors=colors)\n",
    "plt.title(\"Distribution of female vs male mice\", fontweight=\"bold\", fontsize=12)\n",
    "plt.ylabel(\"\")\n",
    "plt.tight_layout()\n"
   ]
  },
  {
   "cell_type": "code",
   "execution_count": 16,
   "metadata": {},
   "outputs": [
    {
     "data": {
      "image/png": "[encoded data removed]",
      "text/plain": [
       "<Figure size 432x288 with 1 Axes>"
      ]
     },
     "metadata": {},
     "output_type": "display_data"
    }
   ],
   "source": [
    "# Generate a pie plot showing the distribution of female versus male mice using pyplot\n",
    "colors=[\"green\", \"red\"]\n",
    "mice_sex=clean_data_df[\"Sex\"].value_counts()\n",
    "labels=clean_data_df[\"Sex\"].unique()\n",
    "plt.pie(mice_sex, autopct=\"%1.1f%%\", startangle=90, colors=colors, labels=labels)\n",
    "plt.title(\"Distribution of female vs male mice\", fontweight=\"bold\", fontsize=12)\n",
    "plt.ylabel(\"\")\n",
    "plt.tight_layout()\n"
   ]
  },
  {
   "cell_type": "markdown",
   "metadata": {},
   "source": [
    "## Quartiles, Outliers and Boxplots"
   ]
  },
  {
   "cell_type": "code",
   "execution_count": 17,
   "metadata": {},
   "outputs": [],
   "source": [
    "# Calculate the final tumor volume of each mouse across four of the most promising treatment regimens. Calculate the IQR and quantitatively determine if there are any potential outliers. \n",
    "\n",
    "summary_tumor_volume_df[\"Mean\"].sort_values()  #--> more promising: Ramicane, Capomulin, Propriva and Ceftamin\n",
    "\n",
    "promising_drugs=[\"Ramicane\", \"Capomulin\", \"Propriva\", \"Ceftamin\"]\n",
    "\n",
    "\n",
    "    \n",
    "# final_volume= [clean_data_df[\"Tumor Volume (mm3)\"].loc[(clean_data_df[\"Timepoint\"]== 45) &\\\n",
    "#               (clean_data_df[\"Drug Regimen\"]==drug)] for drug in promising_drugs]\n",
    "# final_volume_df=pd.DataFrame({\"Ramicane\": final_volume[0],\n",
    "#                               \"Capomulin\":final_volume[1],\n",
    "#                               \"Propriva\": final_volume[2],\n",
    "#                               \"Ceftamin\": final_volume[3]\n",
    "# })\n",
    "# timepoint_45= clean_data_df.loc[(clean_data_df[\"Timepoint\"]== 45)]\n",
    "# final_volume= timepoint_45[\"Tumor Volume (mm3)\"].loc[(timepoint_45[\"Drug Regimen\"]==\"Ramicane\")|\\\n",
    "#                                                        (timepoint_45[\"Drug Regimen\"]==\"Capomulin\")|\\\n",
    "#                                                        (timepoint_45[\"Drug Regimen\"]==\"Propriva\")|\\\n",
    "#                                                        (timepoint_45[\"Drug Regimen\"]==\"Ceftamin\")]\n",
    "\n",
    "# quartiles=final_volume.quantile([.25,.5,.75])\n",
    "# lowerq=quartiles[.25]\n",
    "# upperq=quartiles[.75]\n",
    "# iqr=upperq - lowerq\n",
    "\n",
    "# lower_bound= lowerq - (1.5*iqr)\n",
    "# upper_bound= upperq + (1.5*iqr)\n",
    "\n",
    "# outliers= [x for x in final_volume if x < lower_bound or x > upper_bound ]\n",
    "# outliers  # --> empty list =  no outliers\n",
    "def calculate_iqr(drug):\n",
    "    final_volume_drug= clean_data_df[\"Tumor Volume (mm3)\"].loc[(clean_data_df[\"Timepoint\"]== 45) &\\\n",
    "                                                      (clean_data_df[\"Drug Regimen\"]==drug)]\n",
    "    quartiles=final_volume_drug.quantile([.25,.5,.75])\n",
    "    lowerq=quartiles[.25]\n",
    "    upperq=quartiles[.75]\n",
    "    iqr=upperq - lowerq\n",
    "    lower_bound= lowerq - (1.5*iqr)\n",
    "    upper_bound= upperq + (1.5*iqr)\n",
    "    outliers_drug= [x for x in final_volume_drug if x < lower_bound or x > upper_bound ]\n",
    "    return outliers_drug\n",
    "\n",
    "# outliers_ramicane=calculate_iqr(\"Ramicane\")\n",
    "# outliers_capomulin=calculate_iqr(\"Capomulin\")\n",
    "# outliers_propriva=calculate_iqr(\"Propriva\")\n",
    "# outliers_ceftamin=calculate_iqr(\"Ceftamin\")\n",
    "\n",
    "# #--> empty list =  no outliers\n",
    "\n",
    "for drug in promising_drugs:\n",
    "    outliers_drug=calculate_iqr(drug)\n",
    "#--> empty list =  no outliers"
   ]
  },
  {
   "cell_type": "code",
   "execution_count": 18,
   "metadata": {
    "scrolled": false
   },
   "outputs": [
    {
     "data": {
      "text/plain": [
       "Text(0, 0.5, 'Tumor Volume (mm3)')"
      ]
     },
     "execution_count": 18,
     "metadata": {},
     "output_type": "execute_result"
    },
    {
     "data": {
      "image/png": "[encoded data removed]",
      "text/plain": [
       "<Figure size 720x360 with 4 Axes>"
      ]
     },
     "metadata": {
      "needs_background": "light"
     },
     "output_type": "display_data"
    }
   ],
   "source": [
    "# Generate a box plot of the final tumor volume of each mouse across four regimens of interest\n",
    "\n",
    "#create figure\n",
    "fig, ax=plt.subplots(nrows=2, ncols=2, figsize=(10,5))\n",
    "fig.suptitle(\"Final Tumor Volume\", fontsize=15, fontweight=\"bold\")\n",
    "fig.subplots_adjust(hspace=0.5, wspace=0.5)\n",
    "\n",
    "#define function to retrieve drug info and plot\n",
    "def plot_box(drug,i,j):\n",
    "    final_drug= clean_data_df[\"Tumor Volume (mm3)\"].loc[(clean_data_df[\"Timepoint\"]== 45) &\\\n",
    "                                                      (clean_data_df[\"Drug Regimen\"]==drug)]\n",
    "    plot_drug= final_drug.plot(kind=\"box\", ax=ax[i][j], title= drug, xticks=[]).\\\n",
    "                    set_ylabel(\"Tumor Volume (mm3)\", fontsize=12)\n",
    "    return plot_drug\n",
    "\n",
    "#subplots\n",
    "plot_box(\"Ramicane\",0,0)\n",
    "plot_box(\"Capomulin\",0,1)\n",
    "plot_box(\"Propriva\",1,0)\n",
    "plot_box(\"Ceftamin\",1,1)"
   ]
  },
  {
   "cell_type": "code",
   "execution_count": null,
   "metadata": {},
   "outputs": [],
   "source": []
  },
  {
   "cell_type": "code",
   "execution_count": 19,
   "metadata": {},
   "outputs": [
    {
     "data": {
      "text/plain": [
       "Text(0, 0.5, 'Tumor Volume (mm3)')"
      ]
     },
     "execution_count": 19,
     "metadata": {},
     "output_type": "execute_result"
    },
    {
     "data": {
      "image/png": "[encoded data removed]",
      "text/plain": [
       "<Figure size 1440x360 with 4 Axes>"
      ]
     },
     "metadata": {
      "needs_background": "light"
     },
     "output_type": "display_data"
    }
   ],
   "source": [
    "fig, axis=plt.subplots(nrows=1, ncols=4, figsize=(20,5))\n",
    "fig.suptitle(\"Final Tumor Volume\", fontsize=15, fontweight=\"bold\")\n",
    "\n",
    "def plot_box(drug,i):\n",
    "    final_drug= clean_data_df[\"Tumor Volume (mm3)\"].loc[(clean_data_df[\"Timepoint\"]== 45) &\\\n",
    "                                                      (clean_data_df[\"Drug Regimen\"]==drug)]\n",
    "    plot_drug= final_drug.plot(kind=\"box\", ax=axis[i], title= drug, xticks=[]).\\\n",
    "                    set_ylabel(\"Tumor Volume (mm3)\", fontsize=12)\n",
    "    return plot_drug\n",
    "\n",
    "\n",
    "plot_box(\"Ramicane\",0)\n",
    "plot_box(\"Capomulin\",1)\n",
    "plot_box(\"Propriva\",2)\n",
    "plot_box(\"Ceftamin\",3)"
   ]
  },
  {
   "cell_type": "markdown",
   "metadata": {},
   "source": [
    "## Line and Scatter Plots"
   ]
  },
  {
   "cell_type": "code",
   "execution_count": 20,
   "metadata": {},
   "outputs": [
    {
     "data": {
      "text/plain": [
       "Text(0.5, 1.0, 'Tumor volume evolution for a mouse treated with Capomulin')"
      ]
     },
     "execution_count": 20,
     "metadata": {},
     "output_type": "execute_result"
    },
    {
     "data": {
      "image/png": "[encoded data removed]",
      "text/plain": [
       "<Figure size 432x288 with 1 Axes>"
      ]
     },
     "metadata": {
      "needs_background": "light"
     },
     "output_type": "display_data"
    }
   ],
   "source": [
    "# Generate a line plot of time point versus tumor volume for a mouse treated with Capomulin\n",
    "mouse=\"s185\"\n",
    "drug=\"Capomulin\"\n",
    "\n",
    "line_s185= clean_data_df[[\"Tumor Volume (mm3)\", \"Timepoint\"]].loc[(clean_data_df[\"Drug Regimen\"]==drug)&\\\n",
    "                                                                  (clean_data_df[\"Mouse ID\"]==mouse)]\n",
    "line_s185.plot(x=\"Timepoint\", y=\"Tumor Volume (mm3)\", label=\"Mouse s185\", marker=\"s\", color=\"red\")\n",
    "\n",
    "plt.ylabel(\"Tumor Volume (mm3)\")\n",
    "plt.xticks(line_s185[\"Timepoint\"])\n",
    "plt.title(\"Tumor volume evolution for a mouse treated with Capomulin\")\n"
   ]
  },
  {
   "cell_type": "code",
   "execution_count": 21,
   "metadata": {
    "scrolled": false
   },
   "outputs": [
    {
     "data": {
      "text/plain": [
       "([<matplotlib.axis.XTick at 0x20e75186948>,\n",
       "  <matplotlib.axis.XTick at 0x20e7517ffc8>,\n",
       "  <matplotlib.axis.XTick at 0x20e7518c508>,\n",
       "  <matplotlib.axis.XTick at 0x20e751ba0c8>,\n",
       "  <matplotlib.axis.XTick at 0x20e751ba5c8>,\n",
       "  <matplotlib.axis.XTick at 0x20e751bac88>,\n",
       "  <matplotlib.axis.XTick at 0x20e751bd448>,\n",
       "  <matplotlib.axis.XTick at 0x20e7517fbc8>,\n",
       "  <matplotlib.axis.XTick at 0x20e751c2a08>,\n",
       "  <matplotlib.axis.XTick at 0x20e751c6288>,\n",
       "  <matplotlib.axis.XTick at 0x20e751c6b88>,\n",
       "  <matplotlib.axis.XTick at 0x20e751c9688>],\n",
       " <a list of 12 Text xticklabel objects>)"
      ]
     },
     "execution_count": 21,
     "metadata": {},
     "output_type": "execute_result"
    },
    {
     "data": {
      "image/png": "[encoded data removed]",
      "text/plain": [
       "<Figure size 432x288 with 1 Axes>"
      ]
     },
     "metadata": {
      "needs_background": "light"
     },
     "output_type": "display_data"
    }
   ],
   "source": [
    "# Generate a scatter plot of mouse weight versus average tumor volume for the Capomulin regimen\n",
    "\n",
    "capomulin= clean_data_df[[\"Tumor Volume (mm3)\", \"Weight (g)\"]].loc[(clean_data_df[\"Drug Regimen\"]==\"Capomulin\")]\n",
    "capomulin.plot(kind=\"scatter\", x=\"Weight (g)\", y=\"Tumor Volume (mm3)\",\\\n",
    "               title=(\"Mouse Weight vs Tumore Volume for Capomulin\"), alpha=0.75, color=\"green\")\n",
    "x=capomulin[\"Weight (g)\"]\n",
    "y=capomulin[\"Tumor Volume (mm3)\"]\n",
    "\n",
    "plt.ylim(min(y)-2, max(y)+5)\n",
    "plt.xlim(min(x)-0.5, max(x)+0.5)\n",
    "plt.xticks(np.arange(min(x)-1, max(x)+1, 1.0))"
   ]
  },
  {
   "cell_type": "markdown",
   "metadata": {},
   "source": [
    "## Correlation and Regression"
   ]
  },
  {
   "cell_type": "code",
   "execution_count": 22,
   "metadata": {},
   "outputs": [
    {
     "name": "stdout",
     "output_type": "stream",
     "text": [
      "The correlation coefficient for mouse weight and tumore volume for the Capomulin regimen is 0.526\n"
     ]
    },
    {
     "data": {
      "text/plain": [
       "Text(20, 30, 'y=0.96x + 21.49')"
      ]
     },
     "execution_count": 22,
     "metadata": {},
     "output_type": "execute_result"
    },
    {
     "data": {
      "image/png": "[encoded data removed]",
      "text/plain": [
       "<Figure size 432x288 with 1 Axes>"
      ]
     },
     "metadata": {
      "needs_background": "light"
     },
     "output_type": "display_data"
    }
   ],
   "source": [
    "# Calculate the correlation coefficient and linear regression model \n",
    "# for mouse weight and average tumor volume for the Capomulin regimen\n",
    "\n",
    "#mouse weight versus average tumor volume (see cell above)\n",
    "capomulin.plot(kind=\"scatter\", x=\"Weight (g)\", y=\"Tumor Volume (mm3)\",\\\n",
    "               title=(\"Mouse Weight vs Tumore Volume for Capomulin\"), alpha=0.75, color=\"green\")\n",
    "plt.ylim(min(y)-2, max(y)+5)\n",
    "plt.xlim(min(x)-0.5, max(x)+0.5)\n",
    "plt.xticks(np.arange(min(x)-1, max(x)+1, 1.0))\n",
    "\n",
    "\n",
    "#calculate correlation (with regression coefficient)\n",
    "(slope, intercept, rvalue, pvalue, stderr)=st.linregress(x, y)\n",
    "\n",
    "#print regression coefficient\n",
    "print(f'The correlation coefficient for mouse weight and tumore volume \\\n",
    "for the Capomulin regimen is {str(round(rvalue,3))}')\n",
    "\n",
    "#plot regression values\n",
    "regress_values=x*slope + intercept\n",
    "line_eq= \"y=\" + str(round(slope,2)) + \"x + \" + str(round(intercept,2))\n",
    "plt.plot(x, regress_values, \"r-\")\n",
    "plt.annotate(line_eq, (20,30), fontsize=12, color=\"red\")\n",
    "\n"
   ]
  },
  {
   "cell_type": "code",
   "execution_count": null,
   "metadata": {},
   "outputs": [],
   "source": []
  }
 ],
 "metadata": {
  "anaconda-cloud": {},
  "kernelspec": {
   "display_name": "Python 3",
   "language": "python",
   "name": "python3"
  },
  "language_info": {
   "codemirror_mode": {
    "name": "ipython",
    "version": 3
   },
   "file_extension": ".py",
   "mimetype": "text/x-python",
   "name": "python",
   "nbconvert_exporter": "python",
   "pygments_lexer": "ipython3",
   "version": "3.7.6"
  }
 },
 "nbformat": 4,
 "nbformat_minor": 2
}
